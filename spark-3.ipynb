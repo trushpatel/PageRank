{
 "cells": [
  {
   "cell_type": "code",
   "execution_count": 1,
   "id": "0be93a18",
   "metadata": {},
   "outputs": [],
   "source": [
    "import os\n",
    "import sys\n",
    "spark_path = os.environ['SPARK_HOME']\n",
    "sys.path.append(spark_path + \"/bin\")\n",
    "sys.path.append(spark_path + \"/python\")\n",
    "sys.path.append(spark_path + \"/python/pyspark/\")\n",
    "sys.path.append(spark_path + \"/python/lib\")\n",
    "sys.path.append(spark_path + \"/python/lib/pyspark.zip\")\n",
    "sys.path.append(spark_path + \"/python/lib/py4j-0.10.9-src.zip\")\n",
    "\n",
    "import findspark\n",
    "findspark.init()\n",
    "import pyspark"
   ]
  },
  {
   "cell_type": "code",
   "execution_count": 2,
   "id": "e19f3c1a",
   "metadata": {},
   "outputs": [],
   "source": [
    "number_cores = 6\n",
    "memory_gb = 16\n",
    "conf = (pyspark.SparkConf().setMaster('local[{}]'.format(number_cores)).set('spark.driver.memory', '{}g'.format(memory_gb)))\n",
    "sc = pyspark.SparkContext(conf=conf)"
   ]
  },
  {
   "cell_type": "code",
   "execution_count": 3,
   "id": "d60aff67",
   "metadata": {},
   "outputs": [
    {
     "name": "stdout",
     "output_type": "stream",
     "text": [
      "data  Lab2  spark-3.ipynb  spark-4.ipynb\r\n"
     ]
    }
   ],
   "source": [
    "!dir /users/trush/CSC496/PageRank"
   ]
  },
  {
   "cell_type": "code",
   "execution_count": 4,
   "id": "e4bd131b",
   "metadata": {},
   "outputs": [
    {
     "name": "stdout",
     "output_type": "stream",
     "text": [
      "y y\r\n",
      "y a\r\n",
      "a y\r\n",
      "a m\r\n",
      "m a"
     ]
    }
   ],
   "source": [
    "! cat /users/trush/CSC496/PageRank/data/small_graph.dat"
   ]
  },
  {
   "cell_type": "code",
   "execution_count": 5,
   "id": "b3df5f89",
   "metadata": {},
   "outputs": [
    {
     "data": {
      "text/plain": [
       "['y y', 'y a', 'a y', 'a m', 'm a']"
      ]
     },
     "execution_count": 5,
     "metadata": {},
     "output_type": "execute_result"
    }
   ],
   "source": [
    "graph_data = sc.textFile(\"/users/trush/CSC496/PageRank/data/small_graph.dat\")\n",
    "graph_data.take(10)"
   ]
  },
  {
   "cell_type": "code",
   "execution_count": 6,
   "id": "3d6dc1e8",
   "metadata": {},
   "outputs": [
    {
     "data": {
      "text/plain": [
       "[('y', ['y', 'a']), ('a', ['y', 'm']), ('m', ['a'])]"
      ]
     },
     "execution_count": 6,
     "metadata": {},
     "output_type": "execute_result"
    }
   ],
   "source": [
    "# Incoming and outgoing links in a page\n",
    "links = graph_data.map(lambda line: (line.split(\" \")[0], line.split(\" \")[1])) \\\n",
    "        .groupByKey() \\\n",
    "        .mapValues(list)\n",
    "links.take(10)"
   ]
  },
  {
   "cell_type": "code",
   "execution_count": 7,
   "id": "1c8b879a",
   "metadata": {},
   "outputs": [
    {
     "data": {
      "text/plain": [
       "[('y', 0.3333333333333333),\n",
       " ('a', 0.3333333333333333),\n",
       " ('m', 0.3333333333333333)]"
      ]
     },
     "execution_count": 7,
     "metadata": {},
     "output_type": "execute_result"
    }
   ],
   "source": [
    "N = links.count()\n",
    "ranks = links.map(lambda line: (line[0], 1/N))\n",
    "ranks.take(N)"
   ]
  },
  {
   "cell_type": "code",
   "execution_count": 8,
   "id": "11d927b0",
   "metadata": {},
   "outputs": [
    {
     "data": {
      "text/plain": [
       "[('y', (0.3333333333333333, ['y', 'a'])),\n",
       " ('a', (0.3333333333333333, ['y', 'm'])),\n",
       " ('m', (0.3333333333333333, ['a']))]"
      ]
     },
     "execution_count": 8,
     "metadata": {},
     "output_type": "execute_result"
    }
   ],
   "source": [
    "votes = ranks.join(links)\n",
    "votes.take(N)"
   ]
  },
  {
   "cell_type": "code",
   "execution_count": 9,
   "id": "89169ef6",
   "metadata": {},
   "outputs": [
    {
     "data": {
      "text/plain": [
       "[('y', 0.16666666666666666), ('a', 0.16666666666666666)]"
      ]
     },
     "execution_count": 9,
     "metadata": {},
     "output_type": "execute_result"
    }
   ],
   "source": [
    "def calculateVotes(t):\n",
    "    res = []\n",
    "    for item in t[1][1]:\n",
    "        count = len(t[1][1])\n",
    "        res.append((item, t[1][0]/count))\n",
    "    return res\n",
    "# Weight of votes from original source\n",
    "calculateVotes(('y', (0.3333333333333333, ['y', 'a'])))"
   ]
  },
  {
   "cell_type": "code",
   "execution_count": 10,
   "id": "acaf9a00",
   "metadata": {},
   "outputs": [
    {
     "data": {
      "text/plain": [
       "[('y', 0.16666666666666666),\n",
       " ('a', 0.16666666666666666),\n",
       " ('y', 0.16666666666666666),\n",
       " ('m', 0.16666666666666666),\n",
       " ('a', 0.3333333333333333)]"
      ]
     },
     "execution_count": 10,
     "metadata": {},
     "output_type": "execute_result"
    }
   ],
   "source": [
    "votes = ranks.join(links) \\\n",
    "        .flatMap(calculateVotes)\n",
    "votes.collect()"
   ]
  },
  {
   "cell_type": "code",
   "execution_count": 11,
   "id": "6c73c06c",
   "metadata": {},
   "outputs": [
    {
     "data": {
      "text/plain": [
       "[('y', 0.3333333333333333),\n",
       " ('a', 0.3333333333333333),\n",
       " ('m', 0.3333333333333333)]"
      ]
     },
     "execution_count": 11,
     "metadata": {},
     "output_type": "execute_result"
    }
   ],
   "source": [
    "ranks.collect()"
   ]
  },
  {
   "cell_type": "code",
   "execution_count": 12,
   "id": "1484ff0e",
   "metadata": {},
   "outputs": [
    {
     "data": {
      "text/plain": [
       "[('y', 0.3333333333333333), ('a', 0.5), ('m', 0.16666666666666666)]"
      ]
     },
     "execution_count": 12,
     "metadata": {},
     "output_type": "execute_result"
    }
   ],
   "source": [
    "ranks = votes.reduceByKey(lambda x, y: x + y)\n",
    "ranks.collect()"
   ]
  },
  {
   "cell_type": "code",
   "execution_count": 13,
   "id": "3df298f8",
   "metadata": {},
   "outputs": [
    {
     "name": "stdout",
     "output_type": "stream",
     "text": [
      "[('y', 0.41666666666666663), ('a', 0.3333333333333333), ('m', 0.25)]\n",
      "[('y', 0.375), ('a', 0.4583333333333333), ('m', 0.16666666666666666)]\n",
      "[('y', 0.41666666666666663), ('m', 0.22916666666666666), ('a', 0.35416666666666663)]\n",
      "[('y', 0.38541666666666663), ('a', 0.4375), ('m', 0.17708333333333331)]\n",
      "[('m', 0.21875), ('y', 0.4114583333333333), ('a', 0.36979166666666663)]\n",
      "[('y', 0.390625), ('a', 0.42447916666666663), ('m', 0.18489583333333331)]\n",
      "[('m', 0.21223958333333331), ('y', 0.4075520833333333), ('a', 0.3802083333333333)]\n",
      "[('m', 0.19010416666666666), ('y', 0.3938802083333333), ('a', 0.416015625)]\n",
      "[('m', 0.2080078125), ('y', 0.40494791666666663), ('a', 0.3870442708333333)]\n",
      "[('y', 0.39599609375), ('a', 0.4104817708333333), ('m', 0.19352213541666666)]\n",
      "CPU times: user 565 ms, sys: 214 ms, total: 778 ms\n",
      "Wall time: 10.5 s\n"
     ]
    }
   ],
   "source": [
    "%%time\n",
    "for i in range(10):\n",
    "    votes = ranks.join(links) \\\n",
    "        .flatMap(calculateVotes)\n",
    "    ranks = votes.reduceByKey(lambda x, y: x + y)\n",
    "    print(ranks.collect())"
   ]
  },
  {
   "cell_type": "code",
   "execution_count": 14,
   "id": "8e5e283e",
   "metadata": {},
   "outputs": [
    {
     "name": "stdout",
     "output_type": "stream",
     "text": [
      "0.33333333333333337\n",
      "0.33333333333333337\n",
      "0.24999999999999997\n",
      "0.20833333333333331\n",
      "0.1666666666666667\n",
      "0.13541666666666674\n",
      "0.109375\n",
      "0.08854166666666663\n",
      "CPU times: user 829 ms, sys: 287 ms, total: 1.12 s\n",
      "Wall time: 11.5 s\n"
     ]
    },
    {
     "data": {
      "text/plain": [
       "[('m', 0.21223958333333331),\n",
       " ('y', 0.4075520833333333),\n",
       " ('a', 0.3802083333333333)]"
      ]
     },
     "execution_count": 14,
     "metadata": {},
     "output_type": "execute_result"
    }
   ],
   "source": [
    "%%time\n",
    "\n",
    "N = links.count()\n",
    "ranks = links.map(lambda line: (line[0], 1/N))\n",
    "ranks.take(N)\n",
    "sum = 1\n",
    "\n",
    "while sum > 0.1:\n",
    "    old_ranks = ranks\n",
    "    votes = ranks.join(links) \\\n",
    "            .flatMap(calculateVotes)\n",
    "    ranks = votes.reduceByKey(lambda x, y: x + y)\n",
    "    errors = old_ranks.join(ranks).mapValues(lambda v: abs(v[0] - v[1]))\n",
    "    sum = errors.values().sum()\n",
    "    print(sum)\n",
    "ranks.collect()"
   ]
  },
  {
   "cell_type": "code",
   "execution_count": null,
   "id": "526fb4f1",
   "metadata": {},
   "outputs": [],
   "source": []
  }
 ],
 "metadata": {
  "kernelspec": {
   "display_name": "Python 3",
   "language": "python",
   "name": "python3"
  },
  "language_info": {
   "codemirror_mode": {
    "name": "ipython",
    "version": 3
   },
   "file_extension": ".py",
   "mimetype": "text/x-python",
   "name": "python",
   "nbconvert_exporter": "python",
   "pygments_lexer": "ipython3",
   "version": "3.6.9"
  }
 },
 "nbformat": 4,
 "nbformat_minor": 5
}
