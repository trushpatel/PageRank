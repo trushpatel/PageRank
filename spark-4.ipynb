{
 "cells": [
  {
   "cell_type": "code",
   "execution_count": 1,
   "id": "3b8dcd37",
   "metadata": {},
   "outputs": [],
   "source": [
    "import os\n",
    "import sys\n",
    "spark_path = os.environ['SPARK_HOME']\n",
    "sys.path.append(spark_path + \"/bin\")\n",
    "sys.path.append(spark_path + \"/python\")\n",
    "sys.path.append(spark_path + \"/python/pyspark/\")\n",
    "sys.path.append(spark_path + \"/python/lib\")\n",
    "sys.path.append(spark_path + \"/python/lib/pyspark.zip\")\n",
    "sys.path.append(spark_path + \"/python/lib/py4j-0.10.9-src.zip\")\n",
    "\n",
    "import findspark\n",
    "findspark.init()\n",
    "import pyspark"
   ]
  },
  {
   "cell_type": "code",
   "execution_count": 2,
   "id": "12bc12bc",
   "metadata": {},
   "outputs": [],
   "source": [
    "number_cores = 6\n",
    "memory_gb = 16\n",
    "conf = (pyspark.SparkConf().setMaster('local[{}]'.format(number_cores)).set('spark.driver.memory', '{}g'.format(memory_gb)))\n",
    "sc = pyspark.SparkContext(conf=conf)"
   ]
  },
  {
   "cell_type": "code",
   "execution_count": 3,
   "id": "1205bfb2",
   "metadata": {},
   "outputs": [
    {
     "name": "stdout",
     "output_type": "stream",
     "text": [
      "hollins.dat  small_graph.dat\r\n"
     ]
    }
   ],
   "source": [
    "!dir /users/trush/CSC496/PageRank/data"
   ]
  },
  {
   "cell_type": "code",
   "execution_count": 4,
   "id": "7184bcb0",
   "metadata": {},
   "outputs": [
    {
     "name": "stdout",
     "output_type": "stream",
     "text": [
      "hollins.dat  small_graph.dat\r\n"
     ]
    }
   ],
   "source": [
    "!ls /users/trush/CSC496/PageRank/data"
   ]
  },
  {
   "cell_type": "code",
   "execution_count": 5,
   "id": "9e8f85de",
   "metadata": {},
   "outputs": [
    {
     "data": {
      "text/plain": [
       "['6012 23875',\n",
       " '1 http://www1.hollins.edu/ ',\n",
       " '2 http://www.hollins.edu/ ',\n",
       " '3 http://www1.hollins.edu/Docs/CompTech/Network/webmail_faq.htm ',\n",
       " '4 http://www1.hollins.edu/Docs/Forms/GetForms.htm ']"
      ]
     },
     "execution_count": 5,
     "metadata": {},
     "output_type": "execute_result"
    }
   ],
   "source": [
    "raw_data = sc.textFile(\"/users/trush/CSC496/PageRank/data/hollins.dat\")\n",
    "raw_data.take(5)"
   ]
  },
  {
   "cell_type": "code",
   "execution_count": 6,
   "id": "ed90913f",
   "metadata": {},
   "outputs": [
    {
     "name": "stdout",
     "output_type": "stream",
     "text": [
      "29888\n"
     ]
    }
   ],
   "source": [
    "line_counts = raw_data.count()\n",
    "print(line_counts)"
   ]
  },
  {
   "cell_type": "code",
   "execution_count": 7,
   "id": "d468f4cb",
   "metadata": {},
   "outputs": [
    {
     "data": {
      "text/plain": [
       "6012"
      ]
     },
     "execution_count": 7,
     "metadata": {},
     "output_type": "execute_result"
    }
   ],
   "source": [
    "tmp1 = raw_data.filter(lambda line: \"http\" in line)\n",
    "tmp1.count()\n",
    "#tmp1.take(10)"
   ]
  },
  {
   "cell_type": "code",
   "execution_count": 8,
   "id": "fe0cec66",
   "metadata": {},
   "outputs": [
    {
     "data": {
      "text/plain": [
       "['6012 23875',\n",
       " '1 2',\n",
       " '8 2',\n",
       " '16 2',\n",
       " '18 2',\n",
       " '20 2',\n",
       " '23 2',\n",
       " '26 2',\n",
       " '27 2',\n",
       " '28 2']"
      ]
     },
     "execution_count": 8,
     "metadata": {},
     "output_type": "execute_result"
    }
   ],
   "source": [
    "tmp2 = raw_data.filter(lambda line: \"http\" not in line)\n",
    "#tmp2.count()\n",
    "tmp2.take(10)\n",
    "# initial page rank: 1/6012"
   ]
  },
  {
   "cell_type": "code",
   "execution_count": 9,
   "id": "c748214c",
   "metadata": {},
   "outputs": [
    {
     "data": {
      "text/plain": [
       "29888"
      ]
     },
     "execution_count": 9,
     "metadata": {},
     "output_type": "execute_result"
    }
   ],
   "source": [
    "raw_data.distinct().count()"
   ]
  },
  {
   "cell_type": "code",
   "execution_count": 10,
   "id": "80ce2bb6",
   "metadata": {},
   "outputs": [],
   "source": [
    "#import random\n",
    "#raw_data.takeSample(False, 100, random.randint(1, 1000))"
   ]
  },
  {
   "cell_type": "code",
   "execution_count": 11,
   "id": "a400fff9",
   "metadata": {},
   "outputs": [
    {
     "data": {
      "text/plain": [
       "6012"
      ]
     },
     "execution_count": 11,
     "metadata": {},
     "output_type": "execute_result"
    }
   ],
   "source": [
    "raw_data.map(lambda r: r.split(\" \")[0]).distinct().count()"
   ]
  },
  {
   "cell_type": "code",
   "execution_count": 12,
   "id": "ad6ec19d",
   "metadata": {},
   "outputs": [
    {
     "data": {
      "text/plain": [
       "defaultdict(int, {2: 23876, 3: 6012})"
      ]
     },
     "execution_count": 12,
     "metadata": {},
     "output_type": "execute_result"
    }
   ],
   "source": [
    "raw_data.map(lambda r: (len(r.split(\" \")), 1)).countByKey()"
   ]
  },
  {
   "cell_type": "markdown",
   "id": "26ba0bd9",
   "metadata": {},
   "source": [
    "# Hands-on:\n",
    "how do we separate the two data groups, assuming no knowledge of row count?"
   ]
  },
  {
   "cell_type": "code",
   "execution_count": 14,
   "id": "26609790",
   "metadata": {},
   "outputs": [
    {
     "data": {
      "text/plain": [
       "6012"
      ]
     },
     "execution_count": 14,
     "metadata": {},
     "output_type": "execute_result"
    }
   ],
   "source": [
    "links = raw_data.filter(lambda x: \"http\" in x)\n",
    "links.count()"
   ]
  },
  {
   "cell_type": "code",
   "execution_count": 15,
   "id": "1e2f6508",
   "metadata": {},
   "outputs": [
    {
     "data": {
      "text/plain": [
       "23876"
      ]
     },
     "execution_count": 15,
     "metadata": {},
     "output_type": "execute_result"
    }
   ],
   "source": [
    "numbers = raw_data.filter(lambda x: \"http\" not in x)\n",
    "numbers.count()"
   ]
  },
  {
   "cell_type": "code",
   "execution_count": 17,
   "id": "5356278a",
   "metadata": {},
   "outputs": [
    {
     "data": {
      "text/plain": [
       "6012"
      ]
     },
     "execution_count": 17,
     "metadata": {},
     "output_type": "execute_result"
    }
   ],
   "source": [
    "URLs = raw_data.map(lambda line: line.split()[1]) \\\n",
    "        .filter(lambda line: False if line.isnumeric() else True)\n",
    "URLs.count()"
   ]
  },
  {
   "cell_type": "code",
   "execution_count": 23,
   "id": "73f5cd07",
   "metadata": {},
   "outputs": [
    {
     "data": {
      "text/plain": [
       "23875"
      ]
     },
     "execution_count": 23,
     "metadata": {},
     "output_type": "execute_result"
    }
   ],
   "source": [
    "integers = raw_data.filter(lambda x: \"http\" not in x).filter(lambda y: \"6012 23875\" not in y)\n",
    "integers.count()"
   ]
  },
  {
   "cell_type": "code",
   "execution_count": 24,
   "id": "71b79819",
   "metadata": {},
   "outputs": [],
   "source": [
    "links = integers.map(lambda line: (line.split(\" \")[0], line.split(\" \")[1])) \\\n",
    "        .groupByKey().mapValues(list).cache()"
   ]
  },
  {
   "cell_type": "code",
   "execution_count": 25,
   "id": "409aff74",
   "metadata": {},
   "outputs": [
    {
     "name": "stdout",
     "output_type": "stream",
     "text": [
      "[('1', ['2', '3', '4', '5', '6', '7', '8', '9', '10', '11', '12', '13', '14', '15', '16', '17', '18', '19', '20', '21', '22', '23', '24', '25']), ('8', ['2', '7', '19', '21', '85', '87', '88', '90', '91', '92', '221', '222', '223', '224', '225', '226', '227', '228', '229', '230', '340', '341', '342', '343']), ('16', ['2', '27', '28', '37', '38', '42', '48', '52', '61', '73', '74', '75', '76', '77', '78', '79']), ('20', ['2', '217', '248', '482', '483', '484', '485', '486', '487', '488', '489', '490', '491', '492', '493']), ('26', ['2', '27', '28', '37', '38', '39', '40', '41', '42', '43', '52', '61'])]\n"
     ]
    },
    {
     "data": {
      "text/plain": [
       "2823"
      ]
     },
     "execution_count": 25,
     "metadata": {},
     "output_type": "execute_result"
    }
   ],
   "source": [
    "print(links.take(5))\n",
    "links.count()"
   ]
  },
  {
   "cell_type": "code",
   "execution_count": null,
   "id": "455c67b1",
   "metadata": {},
   "outputs": [],
   "source": [
    "def calculateVotes(t):\n",
    "    res[]\n",
    "    for item in t[1][1]:\n",
    "        count = len(t[1][1])\n",
    "        res.append((item, t[1][0]/count))\n",
    "    return res\n",
    "calculateVotes()"
   ]
  }
 ],
 "metadata": {
  "kernelspec": {
   "display_name": "Python 3",
   "language": "python",
   "name": "python3"
  },
  "language_info": {
   "codemirror_mode": {
    "name": "ipython",
    "version": 3
   },
   "file_extension": ".py",
   "mimetype": "text/x-python",
   "name": "python",
   "nbconvert_exporter": "python",
   "pygments_lexer": "ipython3",
   "version": "3.6.9"
  }
 },
 "nbformat": 4,
 "nbformat_minor": 5
}
